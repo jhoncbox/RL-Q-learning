{
 "cells": [
  {
   "cell_type": "code",
   "execution_count": 1,
   "metadata": {
    "scrolled": false
   },
   "outputs": [
    {
     "data": {
      "text/plain": [
       "<matplotlib.axes._subplots.AxesSubplot at 0x17cfd03dac8>"
      ]
     },
     "execution_count": 1,
     "metadata": {},
     "output_type": "execute_result"
    },
    {
     "data": {
      "image/png": "[encoded data removed]",
      "text/plain": [
       "<Figure size 432x288 with 2 Axes>"
      ]
     },
     "metadata": {
      "needs_background": "light"
     },
     "output_type": "display_data"
    }
   ],
   "source": [
    "import numpy as np \n",
    "import pandas as pd\n",
    "import seaborn as sns\n",
    "%matplotlib inline\n",
    "\n",
    "states = [\"All Clear Front\", \"Too Close Front\", \"Too Close Right\", \"Too Close Left\",]\n",
    "actions = [\"Forward\", \"Left\",\"Right\"]\n",
    "\n",
    "q_table = np.loadtxt('qtable.csv', delimiter=',')\n",
    "\n",
    "df = pd.DataFrame(q_table, index=states, columns=actions)\n",
    "\n",
    "sns.heatmap(df, annot=True, cmap='magma',linecolor='white',linewidth=1)"
   ]
  },
  {
   "cell_type": "code",
   "execution_count": 14,
   "metadata": {},
   "outputs": [
    {
     "data": {
      "text/html": [
       "<div>\n",
       "<style scoped>\n",
       "    .dataframe tbody tr th:only-of-type {\n",
       "        vertical-align: middle;\n",
       "    }\n",
       "\n",
       "    .dataframe tbody tr th {\n",
       "        vertical-align: top;\n",
       "    }\n",
       "\n",
       "    .dataframe thead th {\n",
       "        text-align: right;\n",
       "    }\n",
       "</style>\n",
       "<table border=\"1\" class=\"dataframe\">\n",
       "  <thead>\n",
       "    <tr style=\"text-align: right;\">\n",
       "      <th></th>\n",
       "      <th>Forward</th>\n",
       "      <th>Left</th>\n",
       "      <th>Right</th>\n",
       "    </tr>\n",
       "  </thead>\n",
       "  <tbody>\n",
       "    <tr>\n",
       "      <th>All Clear Front</th>\n",
       "      <td>1.183623</td>\n",
       "      <td>1.291000</td>\n",
       "      <td>7.77000</td>\n",
       "    </tr>\n",
       "    <tr>\n",
       "      <th>Too Close Front</th>\n",
       "      <td>4.260633</td>\n",
       "      <td>1.011100</td>\n",
       "      <td>1.90173</td>\n",
       "    </tr>\n",
       "    <tr>\n",
       "      <th>Too Close Right</th>\n",
       "      <td>7.328369</td>\n",
       "      <td>4.657400</td>\n",
       "      <td>2.50205</td>\n",
       "    </tr>\n",
       "    <tr>\n",
       "      <th>Too Close Left</th>\n",
       "      <td>5.845509</td>\n",
       "      <td>1.100308</td>\n",
       "      <td>1.54930</td>\n",
       "    </tr>\n",
       "  </tbody>\n",
       "</table>\n",
       "</div>"
      ],
      "text/plain": [
       "                  Forward      Left    Right\n",
       "All Clear Front  1.183623  1.291000  7.77000\n",
       "Too Close Front  4.260633  1.011100  1.90173\n",
       "Too Close Right  7.328369  4.657400  2.50205\n",
       "Too Close Left   5.845509  1.100308  1.54930"
      ]
     },
     "execution_count": 14,
     "metadata": {},
     "output_type": "execute_result"
    }
   ],
   "source": [
    "df"
   ]
  },
  {
   "cell_type": "markdown",
   "metadata": {},
   "source": [
    "q_table"
   ]
  },
  {
   "cell_type": "code",
   "execution_count": null,
   "metadata": {},
   "outputs": [],
   "source": []
  }
 ],
 "metadata": {
  "kernelspec": {
   "display_name": "Python 3",
   "language": "python",
   "name": "python3"
  },
  "language_info": {
   "codemirror_mode": {
    "name": "ipython",
    "version": 3
   },
   "file_extension": ".py",
   "mimetype": "text/x-python",
   "name": "python",
   "nbconvert_exporter": "python",
   "pygments_lexer": "ipython3",
   "version": "3.7.7"
  }
 },
 "nbformat": 4,
 "nbformat_minor": 4
}